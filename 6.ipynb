{
 "cells": [
  {
   "cell_type": "code",
   "execution_count": 2,
   "id": "f6503000",
   "metadata": {},
   "outputs": [
    {
     "name": "stdout",
     "output_type": "stream",
     "text": [
      "enter your roll number:dm1123\n",
      "Other department\n"
     ]
    }
   ],
   "source": [
    "#[6] Find student from CS department where the roll number may be in capital or smallcase letters\n",
    "\n",
    "rno=input(\"enter your roll number:\")\n",
    "if 'cs' in rno or 'CS' in rno or 'Cs' in rno or 'cS' in rno:\n",
    "    print(\"Student of Computer science\")\n",
    "else:\n",
    "    print(\"Other department\")"
   ]
  },
  {
   "cell_type": "code",
   "execution_count": null,
   "id": "53b77ccf",
   "metadata": {},
   "outputs": [],
   "source": []
  }
 ],
 "metadata": {
  "kernelspec": {
   "display_name": "Python 3 (ipykernel)",
   "language": "python",
   "name": "python3"
  },
  "language_info": {
   "codemirror_mode": {
    "name": "ipython",
    "version": 3
   },
   "file_extension": ".py",
   "mimetype": "text/x-python",
   "name": "python",
   "nbconvert_exporter": "python",
   "pygments_lexer": "ipython3",
   "version": "3.9.6"
  }
 },
 "nbformat": 4,
 "nbformat_minor": 5
}
