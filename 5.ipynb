{
 "cells": [
  {
   "cell_type": "code",
   "execution_count": 5,
   "id": "7f030f50",
   "metadata": {},
   "outputs": [
    {
     "name": "stdout",
     "output_type": "stream",
     "text": [
      "Enter blood group 1:a+ \n",
      "Enter blood group 2:a+\n",
      "Blood group not match\n"
     ]
    }
   ],
   "source": [
    "#[5] Write program to find out if the two blood group match\n",
    "\n",
    "b1=input(\"Enter blood group 1:\")\n",
    "b2=input(\"Enter blood group 2:\")\n",
    "if b1 == b2:\n",
    "    print(\"Blood group match\")\n",
    "else:\n",
    "    print(\"Blood group not match\")"
   ]
  },
  {
   "cell_type": "code",
   "execution_count": null,
   "id": "640de96d",
   "metadata": {},
   "outputs": [],
   "source": []
  }
 ],
 "metadata": {
  "kernelspec": {
   "display_name": "Python 3 (ipykernel)",
   "language": "python",
   "name": "python3"
  },
  "language_info": {
   "codemirror_mode": {
    "name": "ipython",
    "version": 3
   },
   "file_extension": ".py",
   "mimetype": "text/x-python",
   "name": "python",
   "nbconvert_exporter": "python",
   "pygments_lexer": "ipython3",
   "version": "3.11.4"
  }
 },
 "nbformat": 4,
 "nbformat_minor": 5
}
