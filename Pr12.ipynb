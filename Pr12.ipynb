{
 "cells": [
  {
   "cell_type": "code",
   "execution_count": null,
   "id": "c5ef6c7b",
   "metadata": {},
   "outputs": [
    {
     "name": "stdout",
     "output_type": "stream",
     "text": [
      "1.Ashwin\n",
      "2.Jignesh\n",
      "3.Manish\n",
      "4.Nitesh\n",
      "5.Tanvi\n"
     ]
    }
   ],
   "source": [
    "#find birth month\n",
    "d={\"Ashwin\":\"12/02/04\",\"Jignesh\":\"30/03/03\",\"Manish\":\"10/05/03\",\"Nitesh\":\"20/11/04\",\"Tanvi\":\"28/09/96\"}\n",
    "c=1\n",
    "for i in d.keys():\n",
    "    print(str(c)+\".\"+i)\n",
    "    c+=1\n",
    "\n",
    "n=int(input(\"Choose No for find student Birth month : \"))\n",
    "search=\"null\"\n",
    "if n==1:\n",
    "    search=\"Ashwin\"\n",
    "elif n==2:\n",
    "    search=\"Jignesh\"\n",
    "elif n==3:\n",
    "    search=\"Manish\"\n",
    "elif n==4:\n",
    "    search=\"Nitesh\"\n",
    "elif n==5:\n",
    "    search=\"Tanvi\"\n",
    "else:\n",
    "    print(\"Please enter correct student no !...\")\n",
    "\n",
    "if search !=\"null\":    \n",
    "   m={\"01\":\"January\",\"02\":\"February\",\"03\":\"March\",\"04\":\"April\",\"05\":\"May\",\"06\":\"June\",\"07\":\"July\",\"08\":\"August\",\"09\":\"September\",\"10\":\"Octomber\",\"11\":\"November\",\"12\":\"December\"}\n",
    "   searchMonth=\"\"\n",
    "   if \"Ashwin\" in search:\n",
    "     searchMonth=d[\"Ashwin\"][3:5]\n",
    "   elif \"Jignesh\" in search:\n",
    "     searchMonth=d[\"Jignesh\"][3:5]\n",
    "   elif \"Manish\" in search:\n",
    "     searchMonth=d[\"Manish\"][3:5]\n",
    "   elif \"Nitesh\" in search:\n",
    "     searchMonth=d[\"Nitesh\"][3:5]\n",
    "   else:\n",
    "     searchMonth=d[\"Tanvi\"][3:5]\n",
    "        \n",
    "   for i in m.keys():\n",
    "      if searchMonth in i:\n",
    "            print(m[i])\n",
    "\n",
    "    \n",
    "    \n",
    "    \n",
    "    \n"
   ]
  },
  {
   "cell_type": "code",
   "execution_count": null,
   "id": "28de39ae",
   "metadata": {},
   "outputs": [],
   "source": []
  }
 ],
 "metadata": {
  "kernelspec": {
   "display_name": "Python 3 (ipykernel)",
   "language": "python",
   "name": "python3"
  },
  "language_info": {
   "codemirror_mode": {
    "name": "ipython",
    "version": 3
   },
   "file_extension": ".py",
   "mimetype": "text/x-python",
   "name": "python",
   "nbconvert_exporter": "python",
   "pygments_lexer": "ipython3",
   "version": "3.11.0"
  }
 },
 "nbformat": 4,
 "nbformat_minor": 5
}
