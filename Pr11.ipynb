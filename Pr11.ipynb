{
 "cells": [
  {
   "cell_type": "code",
   "execution_count": 4,
   "id": "e6dea3f5",
   "metadata": {},
   "outputs": [
    {
     "name": "stdout",
     "output_type": "stream",
     "text": [
      "Enter no : 8\n",
      "No is not prime\n"
     ]
    }
   ],
   "source": [
    "#11 No is prime or not\n",
    "\n",
    "n=int(input(\"Enter no : \"))\n",
    "c=0\n",
    "if n>1:\n",
    "    for i in range(1,n+1):\n",
    "        if n%i==0:\n",
    "            c+=1\n",
    "    if c==2:\n",
    "        print(\"No is prime\")\n",
    "    else :\n",
    "        print(\"No is not prime\")\n",
    "else :\n",
    "    print(\"No is not prime\")"
   ]
  },
  {
   "cell_type": "code",
   "execution_count": null,
   "id": "bf653d9b",
   "metadata": {},
   "outputs": [],
   "source": []
  }
 ],
 "metadata": {
  "kernelspec": {
   "display_name": "Python 3 (ipykernel)",
   "language": "python",
   "name": "python3"
  },
  "language_info": {
   "codemirror_mode": {
    "name": "ipython",
    "version": 3
   },
   "file_extension": ".py",
   "mimetype": "text/x-python",
   "name": "python",
   "nbconvert_exporter": "python",
   "pygments_lexer": "ipython3",
   "version": "3.11.0"
  }
 },
 "nbformat": 4,
 "nbformat_minor": 5
}
