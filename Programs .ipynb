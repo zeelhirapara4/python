{
 "cells": [
  {
   "cell_type": "code",
   "execution_count": 11,
   "id": "2c7cf00d",
   "metadata": {},
   "outputs": [
    {
     "name": "stdout",
     "output_type": "stream",
     "text": [
      "10\n",
      "10\n"
     ]
    }
   ],
   "source": [
    "#1 Print variable value\n",
    "name=int(input())\n",
    "print(name)"
   ]
  },
  {
   "cell_type": "markdown",
   "id": "1b95af05",
   "metadata": {},
   "source": [
    "1+1\n"
   ]
  },
  {
   "cell_type": "code",
   "execution_count": 4,
   "id": "35864524",
   "metadata": {},
   "outputs": [
    {
     "name": "stdout",
     "output_type": "stream",
     "text": [
      "Enter no : 5\n",
      "15.0\n"
     ]
    }
   ],
   "source": [
    "#2 Sum of first n natural no\n",
    "str=int(input(\"Enter no : \"))\n",
    "sum=str*(str+1)/2\n",
    "print(sum)"
   ]
  },
  {
   "cell_type": "code",
   "execution_count": 7,
   "id": "272df8c3",
   "metadata": {},
   "outputs": [
    {
     "name": "stdout",
     "output_type": "stream",
     "text": [
      "Enter no 1 : 10\n",
      "Enter no 2 : 20\n",
      "sum of 10 + 20 is 30\n"
     ]
    }
   ],
   "source": [
    "#3 sum of two no\n",
    "i=int(input(\"Enter no 1 : \"))\n",
    "j=int(input(\"Enter no 2 : \"))\n",
    "print(\"sum of {0} + {1} is {2}\".format(i,j,i+j))"
   ]
  },
  {
   "cell_type": "code",
   "execution_count": 14,
   "id": "a9ffc12c",
   "metadata": {},
   "outputs": [
    {
     "name": "stdout",
     "output_type": "stream",
     "text": [
      "Enter no 1 : 10\n",
      "Enter no 2 : 20\n",
      "Max value :  20\n"
     ]
    }
   ],
   "source": [
    "#4 Find max value using if else\n",
    "i=int(input(\"Enter no 1 : \"))\n",
    "j=int(input(\"Enter no 2 : \"))\n",
    "def max():\n",
    "    if i>j:\n",
    "        return i\n",
    "    else :\n",
    "        return j\n",
    "print(\"Max value : \",max());\n",
    "  \n",
    "    "
   ]
  },
  {
   "cell_type": "code",
   "execution_count": 67,
   "id": "daf66959",
   "metadata": {},
   "outputs": [
    {
     "name": "stdout",
     "output_type": "stream",
     "text": [
      "Enter no : 1\n",
      "No is not prime\n"
     ]
    }
   ],
   "source": [
    "#6 No is prime or not\n",
    "\n",
    "n=int(input(\"Enter no : \"))\n",
    "c=0\n",
    "if n>1:\n",
    "    for i in range(1,n+1):\n",
    "        if n%i==0:\n",
    "            c+=1\n",
    "    if c==2:\n",
    "        print(\"No is prime\")\n",
    "    else :\n",
    "        print(\"No is not prime\")\n",
    "else :\n",
    "    print(\"No is not prime\")"
   ]
  },
  {
   "cell_type": "code",
   "execution_count": 1,
   "id": "e1760901",
   "metadata": {},
   "outputs": [
    {
     "name": "stdin",
     "output_type": "stream",
     "text": [
      "Enter string  zeel\n"
     ]
    },
    {
     "name": "stdout",
     "output_type": "stream",
     "text": [
      "Size of string :  4\n"
     ]
    }
   ],
   "source": [
    "#7 Find length of String\n",
    "s=input(\"Enter string \")\n",
    "c=0\n",
    "for i in s:\n",
    "    c+=1\n",
    "print(\"Size of string : \",c)\n",
    "    "
   ]
  },
  {
   "cell_type": "code",
   "execution_count": 2,
   "id": "5671f2fb",
   "metadata": {},
   "outputs": [
    {
     "name": "stdout",
     "output_type": "stream",
     "text": [
      "zeel hirapara\n"
     ]
    }
   ],
   "source": [
    "#8 String concatination\n",
    "Name=\"zeel\"\n",
    "Sname=\" hirapara\"\n",
    "print(Name+Sname)\n"
   ]
  },
  {
   "cell_type": "code",
   "execution_count": 3,
   "id": "3a19f0e0",
   "metadata": {},
   "outputs": [
    {
     "name": "stdout",
     "output_type": "stream",
     "text": [
      "False\n"
     ]
    }
   ],
   "source": [
    "print(\"\" or False)"
   ]
  },
  {
   "cell_type": "code",
   "execution_count": 4,
   "id": "4b1e7aaf",
   "metadata": {},
   "outputs": [
    {
     "name": "stdout",
     "output_type": "stream",
     "text": [
      "A\n"
     ]
    }
   ],
   "source": [
    "print('A' or 'B')"
   ]
  },
  {
   "cell_type": "code",
   "execution_count": 5,
   "id": "5279ab17",
   "metadata": {},
   "outputs": [
    {
     "name": "stdout",
     "output_type": "stream",
     "text": [
      "B\n"
     ]
    }
   ],
   "source": [
    "print('B' or 'A')"
   ]
  },
  {
   "cell_type": "code",
   "execution_count": 10,
   "id": "7fd3673f",
   "metadata": {},
   "outputs": [
    {
     "name": "stdout",
     "output_type": "stream",
     "text": [
      "K\n"
     ]
    }
   ],
   "source": [
    "print('K' or 1)"
   ]
  },
  {
   "cell_type": "code",
   "execution_count": 11,
   "id": "d371c90f",
   "metadata": {},
   "outputs": [
    {
     "name": "stdout",
     "output_type": "stream",
     "text": [
      "1\n"
     ]
    }
   ],
   "source": [
    "print(1 or 'K')"
   ]
  },
  {
   "cell_type": "code",
   "execution_count": 12,
   "id": "9a242aa0",
   "metadata": {},
   "outputs": [
    {
     "name": "stdout",
     "output_type": "stream",
     "text": [
      "Guj\n"
     ]
    }
   ],
   "source": [
    "print('Guj' or True)"
   ]
  },
  {
   "cell_type": "code",
   "execution_count": 13,
   "id": "c51893c0",
   "metadata": {},
   "outputs": [
    {
     "name": "stdout",
     "output_type": "stream",
     "text": [
      "True\n"
     ]
    }
   ],
   "source": [
    "print(True or False)"
   ]
  },
  {
   "cell_type": "code",
   "execution_count": 14,
   "id": "6059ed0a",
   "metadata": {},
   "outputs": [
    {
     "name": "stdout",
     "output_type": "stream",
     "text": [
      "True\n"
     ]
    }
   ],
   "source": [
    "print(False or True)"
   ]
  },
  {
   "cell_type": "code",
   "execution_count": 15,
   "id": "237fcd62",
   "metadata": {},
   "outputs": [
    {
     "name": "stdout",
     "output_type": "stream",
     "text": [
      "2.5\n"
     ]
    }
   ],
   "source": [
    "print(False or 2.5)"
   ]
  },
  {
   "cell_type": "code",
   "execution_count": 33,
   "id": "03d1cbd0",
   "metadata": {},
   "outputs": [
    {
     "name": "stdout",
     "output_type": "stream",
     "text": [
      "G\n",
      "Guj\n",
      "rat Vidyapith\n",
      "h\n",
      "htipaydiV tarju\n",
      "jrat Vidyapith\n",
      "pi\n",
      "jr\n",
      "Gja iypt\n",
      "Gja iypt\n",
      "htipaydiV tarjuG\n"
     ]
    }
   ],
   "source": [
    "#Slicing operations\n",
    "u=\"Gujrat Vidyapith\"\n",
    "print(u[0])\n",
    "print(u[0:3])\n",
    "print(u[3:])\n",
    "print(u[-1])\n",
    "print(u[-1:0:-1])\n",
    "print(u[-14:])\n",
    "print(u[12:-2])\n",
    "print(u[2:-12])\n",
    "print(u[0::2])\n",
    "print(u[::2])\n",
    "print(u[::-1])"
   ]
  },
  {
   "cell_type": "code",
   "execution_count": 3,
   "id": "ab328784",
   "metadata": {},
   "outputs": [
    {
     "name": "stdout",
     "output_type": "stream",
     "text": [
      "ZEEL HIRAPARA\n",
      "zeel hirapara\n",
      "Zeel hirapara\n",
      "0\n",
      "6\n",
      "zeel hirApArA\n"
     ]
    }
   ],
   "source": [
    "#String Methods\n",
    "n=\"zeel hirapara\"\n",
    "print(n.upper())\n",
    "print(n.lower())\n",
    "print(n.capitalize())\n",
    "print(n.count('s'))\n",
    "print(n.index('i'))\n",
    "print(n.replace('a','A'))"
   ]
  },
  {
   "cell_type": "code",
   "execution_count": 61,
   "id": "302e5d92",
   "metadata": {},
   "outputs": [
    {
     "name": "stdout",
     "output_type": "stream",
     "text": [
      "abc and xyz  \n",
      "  123\n"
     ]
    }
   ],
   "source": [
    "#String Formatting\n",
    "print(\"{:2} and {:5}\".format(\"abc\",\"xyz\"))\n",
    "print(\"{:>5}\".format(\"123\"))"
   ]
  },
  {
   "cell_type": "code",
   "execution_count": 64,
   "id": "7b1d336d",
   "metadata": {},
   "outputs": [
    {
     "name": "stdout",
     "output_type": "stream",
     "text": [
      "Hello Hello Hello Hello Hello \n"
     ]
    }
   ],
   "source": [
    "#Operator overloading\n",
    "s=\"Hello \"\n",
    "print(s*5)"
   ]
  },
  {
   "cell_type": "code",
   "execution_count": 4,
   "id": "2eaaeb92",
   "metadata": {},
   "outputs": [
    {
     "name": "stdout",
     "output_type": "stream",
     "text": [
      "<class 'list'>\n",
      "[1, 2, 'zeel', 2.5]\n",
      "1\n",
      "[1, 2, 'zeel', 2.5, 20]\n",
      "1\n",
      "2\n",
      "zeel\n",
      "2.5\n",
      "20\n",
      "[1, 2, 'zh', 'zeel', 2.5, 20]\n",
      "[1, 2, 'zh', 2.5, 20]\n"
     ]
    }
   ],
   "source": [
    "#List operations.\n",
    "l=[1,2,'zeel',2.5]\n",
    "print(type(l))\n",
    "print(l)\n",
    "print(l[0])\n",
    "l.append(20);\n",
    "print(l)\n",
    "for i in l:\n",
    "    print(i)\n",
    "l.insert(2,\"zh\")\n",
    "print(l)\n",
    "l.remove(\"zeel\")\n",
    "print(l)\n"
   ]
  },
  {
   "cell_type": "code",
   "execution_count": 8,
   "id": "eee700e0",
   "metadata": {},
   "outputs": [
    {
     "name": "stdout",
     "output_type": "stream",
     "text": [
      "Enter term..10\n",
      "0\n",
      "1\n",
      "1\n",
      "2\n",
      "3\n",
      "5\n",
      "8\n",
      "13\n",
      "21\n",
      "34\n",
      "55\n"
     ]
    }
   ],
   "source": [
    "#fibonacci series\n",
    "n=int(input(\"Enter term..\"))\n",
    "c,v1,v2=0,0,1\n",
    "while c<=n:\n",
    " print(v1)\n",
    " c+=1\n",
    " summ=v1+v2\n",
    " v1=v2\n",
    " v2=summ\n",
    "    \n"
   ]
  },
  {
   "cell_type": "code",
   "execution_count": null,
   "id": "29f4f2c3",
   "metadata": {},
   "outputs": [],
   "source": []
  }
 ],
 "metadata": {
  "kernelspec": {
   "display_name": "Python 3 (ipykernel)",
   "language": "python",
   "name": "python3"
  },
  "language_info": {
   "codemirror_mode": {
    "name": "ipython",
    "version": 3
   },
   "file_extension": ".py",
   "mimetype": "text/x-python",
   "name": "python",
   "nbconvert_exporter": "python",
   "pygments_lexer": "ipython3",
   "version": "3.11.4"
  }
 },
 "nbformat": 4,
 "nbformat_minor": 5
}
