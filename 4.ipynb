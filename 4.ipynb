{
 "cells": [
  {
   "cell_type": "code",
   "execution_count": 3,
   "id": "39c8a412",
   "metadata": {},
   "outputs": [
    {
     "name": "stdout",
     "output_type": "stream",
     "text": [
      "Enter String here:-->welcome to gujrat\n",
      "Before Manipulation: welcome to gujt\n",
      "After manipulation: ujwecoe to gtml\n"
     ]
    }
   ],
   "source": [
    "#[4] WORD shuffle using string manipulation\n",
    "\n",
    "st=input(\"Enter String here:-->\")\n",
    "\n",
    "f=st[:6]\n",
    "s=st[6:12]\n",
    "t=st[12:]\n",
    "\n",
    "f2=f[:2]\n",
    "f3=f[2]\n",
    "f4=f[3:5]\n",
    "f5=f[-1]\n",
    "\n",
    "t2=t[:2]\n",
    "t3=t[-1]\n",
    "\n",
    "st=f2+f3+f4+f5+s+t2+t3\n",
    "after=t2+f2+f4+s+t3+f5+f3\n",
    "\n",
    "print(\"Before Manipulation:\",st)\n",
    "print(\"After manipulation:\",after)\n"
   ]
  },
  {
   "cell_type": "code",
   "execution_count": null,
   "id": "eb55a52a",
   "metadata": {},
   "outputs": [],
   "source": []
  },
  {
   "cell_type": "code",
   "execution_count": null,
   "id": "0fb89870-25f3-4c43-be31-da3a630f693b",
   "metadata": {},
   "outputs": [],
   "source": []
  }
 ],
 "metadata": {
  "kernelspec": {
   "display_name": "Python 3 (ipykernel)",
   "language": "python",
   "name": "python3"
  },
  "language_info": {
   "codemirror_mode": {
    "name": "ipython",
    "version": 3
   },
   "file_extension": ".py",
   "mimetype": "text/x-python",
   "name": "python",
   "nbconvert_exporter": "python",
   "pygments_lexer": "ipython3",
   "version": "3.11.4"
  }
 },
 "nbformat": 4,
 "nbformat_minor": 5
}
