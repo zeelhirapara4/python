{
 "cells": [
  {
   "cell_type": "code",
   "execution_count": 1,
   "id": "28cd5517-7855-42b8-b0c8-ebcf2bc6a838",
   "metadata": {},
   "outputs": [
    {
     "ename": "SyntaxError",
     "evalue": "invalid syntax (2317254445.py, line 5)",
     "output_type": "error",
     "traceback": [
      "\u001b[1;36m  Cell \u001b[1;32mIn[1], line 5\u001b[1;36m\u001b[0m\n\u001b[1;33m    for i in range(1,student_count+1);\u001b[0m\n\u001b[1;37m                                     ^\u001b[0m\n\u001b[1;31mSyntaxError\u001b[0m\u001b[1;31m:\u001b[0m invalid syntax\n"
     ]
    }
   ],
   "source": [
    "student_count=int(input(\"Total no of st:\"))\n",
    "c=0\n",
    "passed=0\n",
    "if stdnt_count>0:\n",
    "    for i in range(1,student_count+1);\n",
    "    marks=int(input(\"enter student\"+str(i)+\"marks:\"))\n",
    "    if marks>=40;\n",
    "    passed+=1\n",
    "    per=(passed *100)/student_count\n",
    "    print(per,\"%student passed...\")\n",
    "\n",
    "else:\n",
    "    print(\"plz enter correct student num\")"
   ]
  },
  {
   "cell_type": "code",
   "execution_count": null,
   "id": "a06961d0-585a-4336-a2c3-e3d2aee50d03",
   "metadata": {},
   "outputs": [],
   "source": []
  }
 ],
 "metadata": {
  "kernelspec": {
   "display_name": "Python 3 (ipykernel)",
   "language": "python",
   "name": "python3"
  },
  "language_info": {
   "codemirror_mode": {
    "name": "ipython",
    "version": 3
   },
   "file_extension": ".py",
   "mimetype": "text/x-python",
   "name": "python",
   "nbconvert_exporter": "python",
   "pygments_lexer": "ipython3",
   "version": "3.11.4"
  }
 },
 "nbformat": 4,
 "nbformat_minor": 5
}
