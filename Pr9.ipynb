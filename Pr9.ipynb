{
 "cells": [
  {
   "cell_type": "code",
   "execution_count": null,
   "id": "6070101a",
   "metadata": {},
   "outputs": [],
   "source": [
    "#fibonacci series\n",
    "n=int(input(\"Enter term..\"))\n",
    "c,v1,v2=0,0,1\n",
    "while c<=n:\n",
    " print(v1)\n",
    " c+=1\n",
    " summ=v1+v2\n",
    " v1=v2\n",
    " v2=summ"
   ]
  }
 ],
 "metadata": {
  "kernelspec": {
   "display_name": "Python 3 (ipykernel)",
   "language": "python",
   "name": "python3"
  },
  "language_info": {
   "codemirror_mode": {
    "name": "ipython",
    "version": 3
   },
   "file_extension": ".py",
   "mimetype": "text/x-python",
   "name": "python",
   "nbconvert_exporter": "python",
   "pygments_lexer": "ipython3",
   "version": "3.11.4"
  }
 },
 "nbformat": 4,
 "nbformat_minor": 5
}
