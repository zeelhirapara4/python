{
 "cells": [
  {
   "cell_type": "code",
   "execution_count": null,
   "id": "60aed9fc-1ca8-4a78-8aa8-4ad51d3b17d6",
   "metadata": {},
   "outputs": [],
   "source": [
    "#to read a card as input and output if the card is lucky or not\n",
    "card=input(\"enter number\")\n",
    "if(card==\"king\" or card==\"queen\" or card==\"j\" or card==\"a\"):\n",
    "    print(\"lucky\")\n",
    "\n",
    "else:\n",
    "    print(\"not lucky\")"
   ]
  },
  {
   "cell_type": "code",
   "execution_count": null,
   "id": "1ff4ba2b-d567-45f0-9154-e77d75e6cee4",
   "metadata": {},
   "outputs": [],
   "source": []
  }
 ],
 "metadata": {
  "kernelspec": {
   "display_name": "Python 3 (ipykernel)",
   "language": "python",
   "name": "python3"
  },
  "language_info": {
   "codemirror_mode": {
    "name": "ipython",
    "version": 3
   },
   "file_extension": ".py",
   "mimetype": "text/x-python",
   "name": "python",
   "nbconvert_exporter": "python",
   "pygments_lexer": "ipython3",
   "version": "3.11.4"
  }
 },
 "nbformat": 4,
 "nbformat_minor": 5
}
