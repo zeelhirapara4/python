{
 "cells": [
  {
   "cell_type": "code",
   "execution_count": 4,
   "id": "21e9a858-0f67-4108-89fd-15337c8f0a20",
   "metadata": {},
   "outputs": [
    {
     "name": "stdin",
     "output_type": "stream",
     "text": [
      "price: 10\n",
      "Denominations: 1 2 5\n"
     ]
    },
    {
     "name": "stdout",
     "output_type": "stream",
     "text": [
      "can you from 10 exactly using 1 2 5 ?\n",
      "0 0 2\n",
      "0 5 0\n",
      "1 2 1\n",
      "2 4 0\n",
      "3 1 1\n",
      "4 3 0\n",
      "5 0 1\n",
      "6 2 0\n",
      "8 1 0\n",
      "10 0 0\n",
      "No\n"
     ]
    }
   ],
   "source": [
    "price=int(input('price:'))\n",
    "deno1,deno2,deno3=map(int,input('Denominations:').split())\n",
    "print(\"can you from\",price,\"exactly using\",deno1,deno2,deno3,\"?\")\n",
    "for d1 in range(0,1+price // deno1):\n",
    "    for d2 in range(0,1+price // deno2):\n",
    "        for d3 in range(0,1+price // deno3):\n",
    "            if d1 * deno1 +d2 *deno2 +d3 * deno3==price:\n",
    "                print(d1,d2,d3)\n",
    "\n",
    "else:\n",
    "    print('No')"
   ]
  },
  {
   "cell_type": "code",
   "execution_count": null,
   "id": "37857173-427f-4f67-a72a-01052cca09e7",
   "metadata": {},
   "outputs": [],
   "source": []
  }
 ],
 "metadata": {
  "kernelspec": {
   "display_name": "Python 3 (ipykernel)",
   "language": "python",
   "name": "python3"
  },
  "language_info": {
   "codemirror_mode": {
    "name": "ipython",
    "version": 3
   },
   "file_extension": ".py",
   "mimetype": "text/x-python",
   "name": "python",
   "nbconvert_exporter": "python",
   "pygments_lexer": "ipython3",
   "version": "3.11.4"
  }
 },
 "nbformat": 4,
 "nbformat_minor": 5
}
