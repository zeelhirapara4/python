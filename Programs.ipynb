{
 "cells": [
  {
   "cell_type": "code",
   "execution_count": 11,
   "id": "2c7cf00d",
   "metadata": {},
   "outputs": [
    {
     "name": "stdout",
     "output_type": "stream",
     "text": [
      "10\n",
      "10\n"
     ]
    }
   ],
   "source": [
    "#1 Print variable value\n",
    "name=int(input())\n",
    "print(name)"
   ]
  },
  {
   "cell_type": "markdown",
   "id": "1b95af05",
   "metadata": {},
   "source": [
    "1+1\n"
   ]
  },
  {
   "cell_type": "code",
   "execution_count": 4,
   "id": "35864524",
   "metadata": {},
   "outputs": [
    {
     "name": "stdout",
     "output_type": "stream",
     "text": [
      "Enter no : 5\n",
      "15.0\n"
     ]
    }
   ],
   "source": [
    "#2 Sum of first n natural no\n",
    "str=int(input(\"Enter no : \"))\n",
    "sum=str*(str+1)/2\n",
    "print(sum)"
   ]
  },
  {
   "cell_type": "code",
   "execution_count": 7,
   "id": "272df8c3",
   "metadata": {},
   "outputs": [
    {
     "name": "stdout",
     "output_type": "stream",
     "text": [
      "Enter no 1 : 10\n",
      "Enter no 2 : 20\n",
      "sum of 10 + 20 is 30\n"
     ]
    }
   ],
   "source": [
    "#3 sum of two no\n",
    "i=int(input(\"Enter no 1 : \"))\n",
    "j=int(input(\"Enter no 2 : \"))\n",
    "print(\"sum of {0} + {1} is {2}\".format(i,j,i+j))"
   ]
  },
  {
   "cell_type": "code",
   "execution_count": 14,
   "id": "a9ffc12c",
   "metadata": {},
   "outputs": [
    {
     "name": "stdout",
     "output_type": "stream",
     "text": [
      "Enter no 1 : 10\n",
      "Enter no 2 : 20\n",
      "Max value :  20\n"
     ]
    }
   ],
   "source": [
    "#4 Find max value using if else\n",
    "i=int(input(\"Enter no 1 : \"))\n",
    "j=int(input(\"Enter no 2 : \"))\n",
    "def max():\n",
    "    if i>j:\n",
    "        return i\n",
    "    else :\n",
    "        return j\n",
    "print(\"Max value : \",max());\n",
    "  \n",
    "    "
   ]
  },
  {
   "cell_type": "code",
   "execution_count": 17,
   "id": "daf66959",
   "metadata": {},
   "outputs": [
    {
     "name": "stdout",
     "output_type": "stream",
     "text": [
      "Enter no : 0\n",
      "No is not prime\n"
     ]
    }
   ],
   "source": [
    "#6 No is prime or not\n",
    "\n",
    "n=int(input(\"Enter no : \"))\n",
    "c=0\n",
    "if n>1:\n",
    "    for i in range(1,n+1):\n",
    "        if n%i==0:\n",
    "            c+=1\n",
    "    if c==2:\n",
    "        print(\"No is prime\")\n",
    "    else :\n",
    "        print(\"No is not prime\")\n",
    "else :\n",
    "    print(\"No is not prime\")"
   ]
  },
  {
   "cell_type": "code",
   "execution_count": 5,
   "id": "e1760901",
   "metadata": {},
   "outputs": [
    {
     "name": "stdin",
     "output_type": "stream",
     "text": [
      "Enter string  zeel\n"
     ]
    },
    {
     "name": "stdout",
     "output_type": "stream",
     "text": [
      "Size of string :  4\n"
     ]
    }
   ],
   "source": [
    "#7 Find length of String\n",
    "s=input(\"Enter string \")\n",
    "c=0\n",
    "for i in s:\n",
    "    c+=1\n",
    "print(\"Size of string : \",c)\n",
    "    "
   ]
  },
  {
   "cell_type": "code",
   "execution_count": 2,
   "id": "5671f2fb",
   "metadata": {},
   "outputs": [
    {
     "name": "stdout",
     "output_type": "stream",
     "text": [
      "zeel hirapara\n"
     ]
    }
   ],
   "source": [
    "#8 String concatination\n",
    "Name=\"zeel\"\n",
    "Sname=\" hirapara\"\n",
    "print(Name+Sname)"
   ]
  },
  {
   "cell_type": "code",
   "execution_count": null,
   "id": "3a19f0e0",
   "metadata": {},
   "outputs": [],
   "source": []
  }
 ],
 "metadata": {
  "kernelspec": {
   "display_name": "Python 3 (ipykernel)",
   "language": "python",
   "name": "python3"
  },
  "language_info": {
   "codemirror_mode": {
    "name": "ipython",
    "version": 3
   },
   "file_extension": ".py",
   "mimetype": "text/x-python",
   "name": "python",
   "nbconvert_exporter": "python",
   "pygments_lexer": "ipython3",
   "version": "3.11.4"
  }
 },
 "nbformat": 4,
 "nbformat_minor": 5
}
