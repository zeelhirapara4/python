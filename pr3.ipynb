{
 "cells": [
  {
   "cell_type": "code",
   "execution_count": 4,
   "id": "8f6af8cc",
   "metadata": {},
   "outputs": [
    {
     "name": "stdout",
     "output_type": "stream",
     "text": [
      "Deparment code :  CS\n",
      "Course Year :  24\n",
      "Student Roll no :  057\n"
     ]
    }
   ],
   "source": [
    "#Extracting field of roll number usinng string indexing and slicing \n",
    "rno=\"CS24057\"\n",
    "print(\"Deparment code : \",rno[0:2])\n",
    "print(\"Course Year : \",rno[2:4])\n",
    "print(\"Student Roll no : \",rno[4:])"
   ]
  },
  {
   "cell_type": "code",
   "execution_count": null,
   "id": "b8086f2d-ddf0-4883-ab8e-1d86bba5eaea",
   "metadata": {},
   "outputs": [],
   "source": []
  }
 ],
 "metadata": {
  "kernelspec": {
   "display_name": "Python 3 (ipykernel)",
   "language": "python",
   "name": "python3"
  },
  "language_info": {
   "codemirror_mode": {
    "name": "ipython",
    "version": 3
   },
   "file_extension": ".py",
   "mimetype": "text/x-python",
   "name": "python",
   "nbconvert_exporter": "python",
   "pygments_lexer": "ipython3",
   "version": "3.11.4"
  }
 },
 "nbformat": 4,
 "nbformat_minor": 5
}
